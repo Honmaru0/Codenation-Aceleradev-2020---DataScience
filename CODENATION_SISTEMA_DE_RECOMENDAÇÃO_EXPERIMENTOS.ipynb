{
  "nbformat": 4,
  "nbformat_minor": 0,
  "metadata": {
    "colab": {
      "name": "CODENATION: SISTEMA DE RECOMENDAÇÃO - EXPERIMENTOS",
      "provenance": [],
      "toc_visible": true,
      "mount_file_id": "1ctUV1G1XSkFafdlOeCMoeyvsHan_vcrx",
      "authorship_tag": "ABX9TyPD/jdQDk5N8JvLnUQsDDly",
      "include_colab_link": true
    },
    "kernelspec": {
      "name": "python3",
      "display_name": "Python 3"
    }
  },
  "cells": [
    {
      "cell_type": "markdown",
      "metadata": {
        "id": "view-in-github",
        "colab_type": "text"
      },
      "source": [
        "<a href=\"https://colab.research.google.com/github/Honmaru0/Codenation-Aceleradev-2020---DataScience/blob/master/CODENATION_SISTEMA_DE_RECOMENDA%C3%87%C3%83O_EXPERIMENTOS.ipynb\" target=\"_parent\"><img src=\"https://colab.research.google.com/assets/colab-badge.svg\" alt=\"Open In Colab\"/></a>"
      ]
    },
    {
      "cell_type": "code",
      "metadata": {
        "id": "nMyhIvsr-321",
        "colab_type": "code",
        "colab": {
          "base_uri": "https://localhost:8080/",
          "height": 34
        },
        "outputId": "2d40f721-de99-4d53-acab-d1ed3e0471a0"
      },
      "source": [
        "cd /content/drive/My Drive/PROJETO FINAL - CODENATION"
      ],
      "execution_count": 187,
      "outputs": [
        {
          "output_type": "stream",
          "text": [
            "/content/drive/My Drive/PROJETO FINAL - CODENATION\n"
          ],
          "name": "stdout"
        }
      ]
    },
    {
      "cell_type": "markdown",
      "metadata": {
        "id": "O8lM3_Ot_AlL",
        "colab_type": "text"
      },
      "source": [
        "#CRIAÇÃO DO MODELO"
      ]
    },
    {
      "cell_type": "markdown",
      "metadata": {
        "id": "nBIjkmK8_EDC",
        "colab_type": "text"
      },
      "source": [
        "Nesta etapa serão executados: redução de dimensionalidade, algorítmos de clustering, comparação de métricas."
      ]
    },
    {
      "cell_type": "markdown",
      "metadata": {
        "id": "R5gaYbRL_UJ0",
        "colab_type": "text"
      },
      "source": [
        "##1º IMPORTAR BIBLIOTECAS E DATASET"
      ]
    },
    {
      "cell_type": "code",
      "metadata": {
        "id": "uY9cKqWU-GCt",
        "colab_type": "code",
        "colab": {}
      },
      "source": [
        "import pandas as pd\n",
        "import seaborn as sn\n",
        "import numpy as np\n",
        "import matplotlib.pyplot as plt"
      ],
      "execution_count": 188,
      "outputs": []
    },
    {
      "cell_type": "code",
      "metadata": {
        "id": "OUMRd7ud-sXz",
        "colab_type": "code",
        "colab": {}
      },
      "source": [
        "mercado = pd.read_csv('mercado_data.csv')\n",
        "pd.set_option('display.max_rows', 200)\n",
        "sn.set()"
      ],
      "execution_count": 189,
      "outputs": []
    },
    {
      "cell_type": "code",
      "metadata": {
        "id": "4EFlkr55_uAp",
        "colab_type": "code",
        "colab": {
          "base_uri": "https://localhost:8080/",
          "height": 275
        },
        "outputId": "a8f0dca6-d4e1-452d-f452-56efd393faa8"
      },
      "source": [
        "mercado.head(5)"
      ],
      "execution_count": 190,
      "outputs": [
        {
          "output_type": "execute_result",
          "data": {
            "text/html": [
              "<div>\n",
              "<style scoped>\n",
              "    .dataframe tbody tr th:only-of-type {\n",
              "        vertical-align: middle;\n",
              "    }\n",
              "\n",
              "    .dataframe tbody tr th {\n",
              "        vertical-align: top;\n",
              "    }\n",
              "\n",
              "    .dataframe thead th {\n",
              "        text-align: right;\n",
              "    }\n",
              "</style>\n",
              "<table border=\"1\" class=\"dataframe\">\n",
              "  <thead>\n",
              "    <tr style=\"text-align: right;\">\n",
              "      <th></th>\n",
              "      <th>Unnamed: 0</th>\n",
              "      <th>fl_matriz</th>\n",
              "      <th>idade_empresa_anos</th>\n",
              "      <th>idade_emp_cat</th>\n",
              "      <th>fl_mei</th>\n",
              "      <th>fl_email</th>\n",
              "      <th>fl_telefone</th>\n",
              "      <th>fl_veiculo</th>\n",
              "      <th>fl_optante_simples</th>\n",
              "      <th>fl_optante_simei</th>\n",
              "      <th>de_saude_tributaria</th>\n",
              "      <th>de_saude_rescencia</th>\n",
              "      <th>nu_meses_rescencia</th>\n",
              "      <th>de_nivel_atividade</th>\n",
              "      <th>fl_passivel_iss</th>\n",
              "      <th>de_faixa_faturamento_estimado</th>\n",
              "      <th>de_faixa_faturamento_estimado_grupo</th>\n",
              "      <th>vl_faturamento_estimado_aux</th>\n",
              "      <th>vl_faturamento_estimado_grupo_aux</th>\n",
              "      <th>nm_micro_regiao_AGLOMERACAO URBANA DE SAO LUIS</th>\n",
              "      <th>nm_micro_regiao_MANAUS</th>\n",
              "      <th>nm_micro_regiao_NATAL</th>\n",
              "      <th>nm_meso_regiao_CENTRO AMAZONENSE</th>\n",
              "      <th>nm_meso_regiao_CENTRO NORTE PIAUIENSE</th>\n",
              "      <th>nm_meso_regiao_LESTE POTIGUAR</th>\n",
              "      <th>nm_meso_regiao_NORTE MARANHENSE</th>\n",
              "      <th>sg_uf_matriz_AM</th>\n",
              "      <th>sg_uf_matriz_MA</th>\n",
              "      <th>sg_uf_matriz_PI</th>\n",
              "      <th>sg_uf_matriz_RN</th>\n",
              "      <th>sg_uf_matriz_RO</th>\n",
              "      <th>nm_segmento_COMERCIO; REPARACAO DE VEICULOS AUTOMOTORES E MOTOCICLETAS</th>\n",
              "      <th>nm_segmento_OUTRAS ATIVIDADES DE SERVICOS</th>\n",
              "      <th>nm_divisao_COMERCIO VAREJISTA</th>\n",
              "      <th>setor_COMERCIO</th>\n",
              "      <th>setor_SERVIÇO</th>\n",
              "      <th>de_ramo_COMERCIO VAREJISTA</th>\n",
              "      <th>de_ramo_SERVICOS DIVERSOS</th>\n",
              "      <th>natureza_juridica_macro_ENTIDADES EMPRESARIAIS</th>\n",
              "      <th>natureza_juridica_macro_OUTROS</th>\n",
              "      <th>sg_uf_AM</th>\n",
              "      <th>sg_uf_MA</th>\n",
              "      <th>sg_uf_PI</th>\n",
              "      <th>sg_uf_RN</th>\n",
              "      <th>sg_uf_RO</th>\n",
              "      <th>de_natureza_juridica_EMPRESARIO INDIVIDUAL</th>\n",
              "      <th>de_natureza_juridica_SOCIEDADE EMPRESARIA LIMITADA</th>\n",
              "      <th>fl_rm_NAO</th>\n",
              "      <th>fl_rm_SIM</th>\n",
              "    </tr>\n",
              "  </thead>\n",
              "  <tbody>\n",
              "    <tr>\n",
              "      <th>0</th>\n",
              "      <td>0</td>\n",
              "      <td>1</td>\n",
              "      <td>14.457534</td>\n",
              "      <td>3</td>\n",
              "      <td>0</td>\n",
              "      <td>1</td>\n",
              "      <td>1</td>\n",
              "      <td>0</td>\n",
              "      <td>1</td>\n",
              "      <td>0</td>\n",
              "      <td>4</td>\n",
              "      <td>3</td>\n",
              "      <td>23.0</td>\n",
              "      <td>3</td>\n",
              "      <td>1</td>\n",
              "      <td>3</td>\n",
              "      <td>3</td>\n",
              "      <td>3132172.8</td>\n",
              "      <td>3132172.8</td>\n",
              "      <td>0</td>\n",
              "      <td>0</td>\n",
              "      <td>1</td>\n",
              "      <td>0</td>\n",
              "      <td>0</td>\n",
              "      <td>1</td>\n",
              "      <td>0</td>\n",
              "      <td>0</td>\n",
              "      <td>0</td>\n",
              "      <td>0</td>\n",
              "      <td>1</td>\n",
              "      <td>0</td>\n",
              "      <td>0</td>\n",
              "      <td>0</td>\n",
              "      <td>0</td>\n",
              "      <td>0</td>\n",
              "      <td>0</td>\n",
              "      <td>0</td>\n",
              "      <td>0</td>\n",
              "      <td>1</td>\n",
              "      <td>0</td>\n",
              "      <td>0</td>\n",
              "      <td>0</td>\n",
              "      <td>0</td>\n",
              "      <td>1</td>\n",
              "      <td>0</td>\n",
              "      <td>0</td>\n",
              "      <td>1</td>\n",
              "      <td>0</td>\n",
              "      <td>1</td>\n",
              "    </tr>\n",
              "    <tr>\n",
              "      <th>1</th>\n",
              "      <td>1</td>\n",
              "      <td>1</td>\n",
              "      <td>1.463014</td>\n",
              "      <td>1</td>\n",
              "      <td>1</td>\n",
              "      <td>1</td>\n",
              "      <td>1</td>\n",
              "      <td>0</td>\n",
              "      <td>1</td>\n",
              "      <td>0</td>\n",
              "      <td>2</td>\n",
              "      <td>2</td>\n",
              "      <td>9.0</td>\n",
              "      <td>1</td>\n",
              "      <td>1</td>\n",
              "      <td>1</td>\n",
              "      <td>1</td>\n",
              "      <td>210000.0</td>\n",
              "      <td>210000.0</td>\n",
              "      <td>0</td>\n",
              "      <td>0</td>\n",
              "      <td>0</td>\n",
              "      <td>0</td>\n",
              "      <td>1</td>\n",
              "      <td>0</td>\n",
              "      <td>0</td>\n",
              "      <td>0</td>\n",
              "      <td>0</td>\n",
              "      <td>1</td>\n",
              "      <td>0</td>\n",
              "      <td>0</td>\n",
              "      <td>0</td>\n",
              "      <td>0</td>\n",
              "      <td>0</td>\n",
              "      <td>0</td>\n",
              "      <td>1</td>\n",
              "      <td>0</td>\n",
              "      <td>0</td>\n",
              "      <td>0</td>\n",
              "      <td>1</td>\n",
              "      <td>0</td>\n",
              "      <td>0</td>\n",
              "      <td>1</td>\n",
              "      <td>0</td>\n",
              "      <td>0</td>\n",
              "      <td>1</td>\n",
              "      <td>0</td>\n",
              "      <td>0</td>\n",
              "      <td>1</td>\n",
              "    </tr>\n",
              "    <tr>\n",
              "      <th>2</th>\n",
              "      <td>2</td>\n",
              "      <td>1</td>\n",
              "      <td>7.093151</td>\n",
              "      <td>2</td>\n",
              "      <td>1</td>\n",
              "      <td>0</td>\n",
              "      <td>1</td>\n",
              "      <td>0</td>\n",
              "      <td>1</td>\n",
              "      <td>1</td>\n",
              "      <td>2</td>\n",
              "      <td>3</td>\n",
              "      <td>26.0</td>\n",
              "      <td>2</td>\n",
              "      <td>1</td>\n",
              "      <td>0</td>\n",
              "      <td>0</td>\n",
              "      <td>50000.0</td>\n",
              "      <td>50000.0</td>\n",
              "      <td>0</td>\n",
              "      <td>1</td>\n",
              "      <td>0</td>\n",
              "      <td>1</td>\n",
              "      <td>0</td>\n",
              "      <td>0</td>\n",
              "      <td>0</td>\n",
              "      <td>1</td>\n",
              "      <td>0</td>\n",
              "      <td>0</td>\n",
              "      <td>0</td>\n",
              "      <td>0</td>\n",
              "      <td>0</td>\n",
              "      <td>0</td>\n",
              "      <td>0</td>\n",
              "      <td>0</td>\n",
              "      <td>1</td>\n",
              "      <td>0</td>\n",
              "      <td>0</td>\n",
              "      <td>0</td>\n",
              "      <td>1</td>\n",
              "      <td>1</td>\n",
              "      <td>0</td>\n",
              "      <td>0</td>\n",
              "      <td>0</td>\n",
              "      <td>0</td>\n",
              "      <td>1</td>\n",
              "      <td>0</td>\n",
              "      <td>0</td>\n",
              "      <td>1</td>\n",
              "    </tr>\n",
              "    <tr>\n",
              "      <th>3</th>\n",
              "      <td>3</td>\n",
              "      <td>1</td>\n",
              "      <td>6.512329</td>\n",
              "      <td>2</td>\n",
              "      <td>0</td>\n",
              "      <td>1</td>\n",
              "      <td>1</td>\n",
              "      <td>0</td>\n",
              "      <td>1</td>\n",
              "      <td>0</td>\n",
              "      <td>2</td>\n",
              "      <td>3</td>\n",
              "      <td>26.0</td>\n",
              "      <td>2</td>\n",
              "      <td>1</td>\n",
              "      <td>1</td>\n",
              "      <td>1</td>\n",
              "      <td>210000.0</td>\n",
              "      <td>210000.0</td>\n",
              "      <td>0</td>\n",
              "      <td>1</td>\n",
              "      <td>0</td>\n",
              "      <td>1</td>\n",
              "      <td>0</td>\n",
              "      <td>0</td>\n",
              "      <td>0</td>\n",
              "      <td>1</td>\n",
              "      <td>0</td>\n",
              "      <td>0</td>\n",
              "      <td>0</td>\n",
              "      <td>0</td>\n",
              "      <td>0</td>\n",
              "      <td>1</td>\n",
              "      <td>0</td>\n",
              "      <td>0</td>\n",
              "      <td>1</td>\n",
              "      <td>0</td>\n",
              "      <td>1</td>\n",
              "      <td>0</td>\n",
              "      <td>1</td>\n",
              "      <td>1</td>\n",
              "      <td>0</td>\n",
              "      <td>0</td>\n",
              "      <td>0</td>\n",
              "      <td>0</td>\n",
              "      <td>1</td>\n",
              "      <td>0</td>\n",
              "      <td>0</td>\n",
              "      <td>1</td>\n",
              "    </tr>\n",
              "    <tr>\n",
              "      <th>4</th>\n",
              "      <td>4</td>\n",
              "      <td>1</td>\n",
              "      <td>3.200000</td>\n",
              "      <td>1</td>\n",
              "      <td>0</td>\n",
              "      <td>1</td>\n",
              "      <td>1</td>\n",
              "      <td>0</td>\n",
              "      <td>1</td>\n",
              "      <td>0</td>\n",
              "      <td>4</td>\n",
              "      <td>3</td>\n",
              "      <td>27.0</td>\n",
              "      <td>3</td>\n",
              "      <td>1</td>\n",
              "      <td>1</td>\n",
              "      <td>1</td>\n",
              "      <td>210000.0</td>\n",
              "      <td>210000.0</td>\n",
              "      <td>0</td>\n",
              "      <td>0</td>\n",
              "      <td>1</td>\n",
              "      <td>0</td>\n",
              "      <td>0</td>\n",
              "      <td>1</td>\n",
              "      <td>0</td>\n",
              "      <td>0</td>\n",
              "      <td>0</td>\n",
              "      <td>0</td>\n",
              "      <td>1</td>\n",
              "      <td>0</td>\n",
              "      <td>0</td>\n",
              "      <td>0</td>\n",
              "      <td>0</td>\n",
              "      <td>0</td>\n",
              "      <td>1</td>\n",
              "      <td>0</td>\n",
              "      <td>0</td>\n",
              "      <td>0</td>\n",
              "      <td>1</td>\n",
              "      <td>0</td>\n",
              "      <td>0</td>\n",
              "      <td>0</td>\n",
              "      <td>1</td>\n",
              "      <td>0</td>\n",
              "      <td>1</td>\n",
              "      <td>0</td>\n",
              "      <td>0</td>\n",
              "      <td>1</td>\n",
              "    </tr>\n",
              "  </tbody>\n",
              "</table>\n",
              "</div>"
            ],
            "text/plain": [
              "   Unnamed: 0  fl_matriz  ...  fl_rm_NAO  fl_rm_SIM\n",
              "0           0          1  ...          0          1\n",
              "1           1          1  ...          0          1\n",
              "2           2          1  ...          0          1\n",
              "3           3          1  ...          0          1\n",
              "4           4          1  ...          0          1\n",
              "\n",
              "[5 rows x 49 columns]"
            ]
          },
          "metadata": {
            "tags": []
          },
          "execution_count": 190
        }
      ]
    },
    {
      "cell_type": "code",
      "metadata": {
        "id": "DxbsCT-X_w-z",
        "colab_type": "code",
        "colab": {}
      },
      "source": [
        "mercado = mercado.drop(columns = 'Unnamed: 0')"
      ],
      "execution_count": 191,
      "outputs": []
    },
    {
      "cell_type": "markdown",
      "metadata": {
        "id": "0u2LBpMmfyn0",
        "colab_type": "text"
      },
      "source": [
        "Agora, as features são passadas para uma matriz:"
      ]
    },
    {
      "cell_type": "code",
      "metadata": {
        "id": "h0x_G9kAfv9e",
        "colab_type": "code",
        "colab": {}
      },
      "source": [
        "X = mercado.values"
      ],
      "execution_count": 192,
      "outputs": []
    },
    {
      "cell_type": "markdown",
      "metadata": {
        "id": "lysDkSkr_gQu",
        "colab_type": "text"
      },
      "source": [
        "##ANÁLISE DE ALGORÍTMOS"
      ]
    },
    {
      "cell_type": "code",
      "metadata": {
        "id": "A4ENKvvhUEQm",
        "colab_type": "code",
        "colab": {}
      },
      "source": [
        "#ESCALAR FEATURES\n",
        "from sklearn.preprocessing import StandardScaler\n",
        "#REDUÇÃO DA DIMENSÃO\n",
        "from sklearn.decomposition import PCA\n",
        "#CLUSTERIZAÇÃO\n",
        "from sklearn.cluster import KMeans\n",
        "#COEFICIENTES DE SIMILARIDADE\n",
        "from scipy.spatial.distance import cosine"
      ],
      "execution_count": 193,
      "outputs": []
    },
    {
      "cell_type": "code",
      "metadata": {
        "id": "U6R2EyoiUjed",
        "colab_type": "code",
        "colab": {}
      },
      "source": [
        "#APLICANDO A ESCALA\n",
        "sc = StandardScaler()\n",
        "X = sc.fit_transform(X)\n",
        "\n",
        "#REDUÇÃO DAS DIMENSÕES\n",
        "pca = PCA(n_components=2)\n",
        "X = pca.fit_transform(X)\n",
        "#APLICANDO A CLUSTERIZAÇÃO\n",
        "clust = KMeans(n_clusters=6)\n",
        "y = clust.fit_predict(X)"
      ],
      "execution_count": 194,
      "outputs": []
    },
    {
      "cell_type": "code",
      "metadata": {
        "id": "KQiYcXcICRZD",
        "colab_type": "code",
        "colab": {}
      },
      "source": [
        "port1 = pd.read_csv('estaticos_portfolio1.csv')\n",
        "port2 = pd.read_csv('estaticos_portfolio2.csv')\n",
        "port3 = pd.read_csv('estaticos_portfolio3.csv')\n",
        "mercad = pd.read_csv('estaticos_market.csv')\n",
        "id = mercad['id'].values.tolist()\n",
        "id1 = port1['id'].values.tolist()\n",
        "id2 = port2['id'].values.tolist()\n",
        "id3 = port3['id'].values.tolist()"
      ],
      "execution_count": 195,
      "outputs": []
    },
    {
      "cell_type": "code",
      "metadata": {
        "id": "LqhYCRAd6bxT",
        "colab_type": "code",
        "colab": {
          "base_uri": "https://localhost:8080/",
          "height": 419
        },
        "outputId": "077d6def-9b39-41df-e236-7be5c67346b8"
      },
      "source": [
        "Resultado  = pd.DataFrame({'Empresa':id,'Grupo':y.tolist()})\n",
        "Resultado"
      ],
      "execution_count": 196,
      "outputs": [
        {
          "output_type": "execute_result",
          "data": {
            "text/html": [
              "<div>\n",
              "<style scoped>\n",
              "    .dataframe tbody tr th:only-of-type {\n",
              "        vertical-align: middle;\n",
              "    }\n",
              "\n",
              "    .dataframe tbody tr th {\n",
              "        vertical-align: top;\n",
              "    }\n",
              "\n",
              "    .dataframe thead th {\n",
              "        text-align: right;\n",
              "    }\n",
              "</style>\n",
              "<table border=\"1\" class=\"dataframe\">\n",
              "  <thead>\n",
              "    <tr style=\"text-align: right;\">\n",
              "      <th></th>\n",
              "      <th>Empresa</th>\n",
              "      <th>Grupo</th>\n",
              "    </tr>\n",
              "  </thead>\n",
              "  <tbody>\n",
              "    <tr>\n",
              "      <th>0</th>\n",
              "      <td>a6984c3ae395090e3bee8ad63c3758b110de096d5d8195...</td>\n",
              "      <td>2</td>\n",
              "    </tr>\n",
              "    <tr>\n",
              "      <th>1</th>\n",
              "      <td>6178f41ade1365e44bc2c46654c2c8c0eaae27dcb476c4...</td>\n",
              "      <td>0</td>\n",
              "    </tr>\n",
              "    <tr>\n",
              "      <th>2</th>\n",
              "      <td>4a7e5069a397f12fdd7fd57111d6dc5d3ba558958efc02...</td>\n",
              "      <td>0</td>\n",
              "    </tr>\n",
              "    <tr>\n",
              "      <th>3</th>\n",
              "      <td>3348900fe63216a439d2e5238c79ddd46ede454df7b9d8...</td>\n",
              "      <td>2</td>\n",
              "    </tr>\n",
              "    <tr>\n",
              "      <th>4</th>\n",
              "      <td>1f9bcabc9d3173c1fe769899e4fac14b053037b953a1e4...</td>\n",
              "      <td>0</td>\n",
              "    </tr>\n",
              "    <tr>\n",
              "      <th>...</th>\n",
              "      <td>...</td>\n",
              "      <td>...</td>\n",
              "    </tr>\n",
              "    <tr>\n",
              "      <th>462293</th>\n",
              "      <td>469ee5fc984d0bb60aa2f40cda4d003d7c9b963d149ed3...</td>\n",
              "      <td>3</td>\n",
              "    </tr>\n",
              "    <tr>\n",
              "      <th>462294</th>\n",
              "      <td>656f496e7e2fad708f0022d8ad97d2cb9344e839a5f3cb...</td>\n",
              "      <td>2</td>\n",
              "    </tr>\n",
              "    <tr>\n",
              "      <th>462295</th>\n",
              "      <td>9b933a5cf2149d1338f00fb459d34a16b9b0f2e8d3e8e1...</td>\n",
              "      <td>5</td>\n",
              "    </tr>\n",
              "    <tr>\n",
              "      <th>462296</th>\n",
              "      <td>84db0f17467cf4f02439e01ade57150b6ac59d9dae53ed...</td>\n",
              "      <td>1</td>\n",
              "    </tr>\n",
              "    <tr>\n",
              "      <th>462297</th>\n",
              "      <td>3d43e934e150b86be1e67524f5ba1018b27da9ef25566d...</td>\n",
              "      <td>0</td>\n",
              "    </tr>\n",
              "  </tbody>\n",
              "</table>\n",
              "<p>462298 rows × 2 columns</p>\n",
              "</div>"
            ],
            "text/plain": [
              "                                                  Empresa  Grupo\n",
              "0       a6984c3ae395090e3bee8ad63c3758b110de096d5d8195...      2\n",
              "1       6178f41ade1365e44bc2c46654c2c8c0eaae27dcb476c4...      0\n",
              "2       4a7e5069a397f12fdd7fd57111d6dc5d3ba558958efc02...      0\n",
              "3       3348900fe63216a439d2e5238c79ddd46ede454df7b9d8...      2\n",
              "4       1f9bcabc9d3173c1fe769899e4fac14b053037b953a1e4...      0\n",
              "...                                                   ...    ...\n",
              "462293  469ee5fc984d0bb60aa2f40cda4d003d7c9b963d149ed3...      3\n",
              "462294  656f496e7e2fad708f0022d8ad97d2cb9344e839a5f3cb...      2\n",
              "462295  9b933a5cf2149d1338f00fb459d34a16b9b0f2e8d3e8e1...      5\n",
              "462296  84db0f17467cf4f02439e01ade57150b6ac59d9dae53ed...      1\n",
              "462297  3d43e934e150b86be1e67524f5ba1018b27da9ef25566d...      0\n",
              "\n",
              "[462298 rows x 2 columns]"
            ]
          },
          "metadata": {
            "tags": []
          },
          "execution_count": 196
        }
      ]
    },
    {
      "cell_type": "markdown",
      "metadata": {
        "id": "yhNZjU-BOCvM",
        "colab_type": "text"
      },
      "source": [
        "#SIMULAÇÃO NO PORTIFÓLIO 1"
      ]
    },
    {
      "cell_type": "code",
      "metadata": {
        "id": "Loj0K8xi3NJ7",
        "colab_type": "code",
        "colab": {}
      },
      "source": [
        "end =[]\n",
        "scores =[]\n",
        "#achar index das empresas contidas no portifólio\n",
        "for empresa in id1:\n",
        "  end.append(id.index(empresa))\n",
        "#grupo a que cada cluster pertence\n",
        "clusters = Resultado['Grupo'].iloc[end].values.tolist()\n",
        "res = pd.DataFrame({'End_portifolio':end,'Grupo_portifolio':clusters})\n",
        "#fazer iteracao para cada empresa e verificar quantos dos 10 melhores leads também são do portifólio\n",
        "for i in range(0,len(end)):\n",
        "  filtro = res['End_portifolio'].loc[res['Grupo_portifolio']==clusters[i]].values.tolist()\n",
        "  metric = []\n",
        "  leads  = []\n",
        "  \n",
        "  for lead in filtro:\n",
        "    leads.append(id[lead])\n",
        "    metric.append(cosine(X[end[i],:],X[lead,:]))\n",
        "  #print('Para empresa: ',id1[i])\n",
        "  \n",
        "  #filtra os melhores leads para a empresa usada\n",
        "  resultado = pd.DataFrame({'Lead':leads,'Similaridade':metric}).sort_values(by='Similaridade',ascending = False)\n",
        "  resultado = resultado['Lead'].iloc[:10].values.tolist()\n",
        "  score = 0\n",
        "  #verifica quais dos 10 leads também pertencem ao portifólio\n",
        "  for lead in resultado:\n",
        "    if lead in id1:\n",
        "      score = score + 1 \n",
        "  scores.append(score*10)"
      ],
      "execution_count": 197,
      "outputs": []
    },
    {
      "cell_type": "markdown",
      "metadata": {
        "id": "ci4vd_SHKO8Y",
        "colab_type": "text"
      },
      "source": [
        "Após a simulação, foi feita distribuição de score:"
      ]
    },
    {
      "cell_type": "code",
      "metadata": {
        "id": "KRVOB7b9KKHo",
        "colab_type": "code",
        "colab": {
          "base_uri": "https://localhost:8080/",
          "height": 372
        },
        "outputId": "9418f489-3b72-41e0-9e7d-0e550b3e97ab"
      },
      "source": [
        "sn.distplot(scores)\n",
        "plt.title('Performance do modelo - Portifolio 1')\n",
        "plt.xlabel('Score (0 a 100)')\n",
        "plt.ylabel('Ocorrências')"
      ],
      "execution_count": 198,
      "outputs": [
        {
          "output_type": "stream",
          "text": [
            "/usr/local/lib/python3.6/dist-packages/seaborn/distributions.py:283: UserWarning: Data must have variance to compute a kernel density estimate.\n",
            "  warnings.warn(msg, UserWarning)\n"
          ],
          "name": "stderr"
        },
        {
          "output_type": "execute_result",
          "data": {
            "text/plain": [
              "Text(0, 0.5, 'Ocorrências')"
            ]
          },
          "metadata": {
            "tags": []
          },
          "execution_count": 198
        },
        {
          "output_type": "display_data",
          "data": {
            "image/png": "[encoded data removed]",
            "text/plain": [
              "<Figure size 432x288 with 1 Axes>"
            ]
          },
          "metadata": {
            "tags": []
          }
        }
      ]
    },
    {
      "cell_type": "code",
      "metadata": {
        "id": "K_LyX2L4Oj5X",
        "colab_type": "code",
        "colab": {}
      },
      "source": [
        "Resultado  = pd.DataFrame({'Empresa':id,'Grupo':y.tolist()})"
      ],
      "execution_count": 199,
      "outputs": []
    },
    {
      "cell_type": "code",
      "metadata": {
        "id": "WVEI4n9dOXxE",
        "colab_type": "code",
        "colab": {}
      },
      "source": [
        "end =[]\n",
        "scores =[]\n",
        "#achar index das empresas contidas no portifólio\n",
        "for empresa in id2:\n",
        "  end.append(id.index(empresa))\n",
        "#grupo a que cada cluster pertence\n",
        "clusters = Resultado['Grupo'].iloc[end].values.tolist()\n",
        "res = pd.DataFrame({'End_portifolio':end,'Grupo_portifolio':clusters})\n",
        "#fazer iteracao para cada empresa e verificar quantos dos 10 melhores leads também são do portifólio\n",
        "for i in range(0,len(end)):\n",
        "  filtro = res['End_portifolio'].loc[res['Grupo_portifolio']==clusters[i]].values.tolist()\n",
        "  metric = []\n",
        "  leads  = []\n",
        "  \n",
        "  for lead in filtro:\n",
        "    leads.append(id[lead])\n",
        "    metric.append(cosine(X[end[i],:],X[lead,:]))\n",
        "  #print('Para empresa: ',id1[i])\n",
        "  \n",
        "  #filtra os melhores leads para a empresa usada\n",
        "  resultado = pd.DataFrame({'Lead':leads,'Similaridade':metric}).sort_values(by='Similaridade',ascending = False)\n",
        "  resultado = resultado['Lead'].iloc[:10].values.tolist()\n",
        "  score = 0\n",
        "  #verifica quais dos 10 leads também pertencem ao portifólio\n",
        "  for lead in resultado:\n",
        "    if lead in id2:\n",
        "      score = score + 1 \n",
        "  scores.append(score*10)"
      ],
      "execution_count": 200,
      "outputs": []
    },
    {
      "cell_type": "code",
      "metadata": {
        "id": "lXKShmxuOv1w",
        "colab_type": "code",
        "colab": {
          "base_uri": "https://localhost:8080/",
          "height": 318
        },
        "outputId": "092ec680-ea14-4178-d479-69ed7447eb25"
      },
      "source": [
        "sn.distplot(scores)\n",
        "plt.title('Performance do modelo - Portifolio 2')\n",
        "plt.xlabel('Score (0 a 100)')\n",
        "plt.ylabel('Ocorrências')"
      ],
      "execution_count": 201,
      "outputs": [
        {
          "output_type": "execute_result",
          "data": {
            "text/plain": [
              "Text(0, 0.5, 'Ocorrências')"
            ]
          },
          "metadata": {
            "tags": []
          },
          "execution_count": 201
        },
        {
          "output_type": "display_data",
          "data": {
            "image/png": "[encoded data removed]",
            "text/plain": [
              "<Figure size 432x288 with 1 Axes>"
            ]
          },
          "metadata": {
            "tags": []
          }
        }
      ]
    },
    {
      "cell_type": "code",
      "metadata": {
        "id": "jY4XlwqWPKv4",
        "colab_type": "code",
        "colab": {}
      },
      "source": [
        "end =[]\n",
        "scores =[]\n",
        "#achar index das empresas contidas no portifólio\n",
        "for empresa in id3:\n",
        "  end.append(id.index(empresa))\n",
        "#grupo a que cada cluster pertence\n",
        "clusters = Resultado['Grupo'].iloc[end].values.tolist()\n",
        "res = pd.DataFrame({'End_portifolio':end,'Grupo_portifolio':clusters})\n",
        "#fazer iteracao para cada empresa e verificar quantos dos 10 melhores leads também são do portifólio\n",
        "for i in range(0,len(end)):\n",
        "  filtro = res['End_portifolio'].loc[res['Grupo_portifolio']==clusters[i]].values.tolist()\n",
        "  metric = []\n",
        "  leads  = []\n",
        "  \n",
        "  for lead in filtro:\n",
        "    leads.append(id[lead])\n",
        "    metric.append(cosine(X[end[i],:],X[lead,:]))\n",
        "  #print('Para empresa: ',id1[i])\n",
        "  \n",
        "  #filtra os melhores leads para a empresa usada\n",
        "  resultado = pd.DataFrame({'Lead':leads,'Similaridade':metric}).sort_values(by='Similaridade',ascending = False)\n",
        "  resultado = resultado['Lead'].iloc[:10].values.tolist()\n",
        "  score = 0\n",
        "  #verifica quais dos 10 leads também pertencem ao portifólio\n",
        "  for lead in resultado:\n",
        "    if lead in id3:\n",
        "      score = score + 1 \n",
        "  scores.append(score*10)"
      ],
      "execution_count": 202,
      "outputs": []
    },
    {
      "cell_type": "code",
      "metadata": {
        "id": "2-oTdsSkPWSg",
        "colab_type": "code",
        "colab": {
          "base_uri": "https://localhost:8080/",
          "height": 318
        },
        "outputId": "25502b67-d442-4db6-cac2-2daa2f7d2c61"
      },
      "source": [
        "sn.distplot(scores)\n",
        "plt.title('Performance do modelo - Portifolio 3')\n",
        "plt.xlabel('Score (0 a 100)')\n",
        "plt.ylabel('Ocorrências')"
      ],
      "execution_count": 203,
      "outputs": [
        {
          "output_type": "execute_result",
          "data": {
            "text/plain": [
              "Text(0, 0.5, 'Ocorrências')"
            ]
          },
          "metadata": {
            "tags": []
          },
          "execution_count": 203
        },
        {
          "output_type": "display_data",
          "data": {
            "image/png": "[encoded data removed]",
            "text/plain": [
              "<Figure size 432x288 with 1 Axes>"
            ]
          },
          "metadata": {
            "tags": []
          }
        }
      ]
    },
    {
      "cell_type": "markdown",
      "metadata": {
        "id": "wd7eatCmOJcN",
        "colab_type": "text"
      },
      "source": [
        "A performance está bem aceitável, visto que a maioria dos casos, o modelo consegue reconhecer que outras empresas do portifólio poderiam ser recomendadas."
      ]
    },
    {
      "cell_type": "markdown",
      "metadata": {
        "id": "FE15DfQSTjZb",
        "colab_type": "text"
      },
      "source": [
        "Os arquivos abaixo foram salvos para aplicação no aplicativo."
      ]
    },
    {
      "cell_type": "code",
      "metadata": {
        "id": "hGETYQKRPLEp",
        "colab_type": "code",
        "colab": {}
      },
      "source": [
        "Resultado  = pd.DataFrame({'id':id,'Clusters':y.tolist()})"
      ],
      "execution_count": 204,
      "outputs": []
    },
    {
      "cell_type": "code",
      "metadata": {
        "id": "FdZ_6r45SOwm",
        "colab_type": "code",
        "colab": {}
      },
      "source": [
        "Resultado.to_csv('Resultado.csv')"
      ],
      "execution_count": 205,
      "outputs": []
    },
    {
      "cell_type": "code",
      "metadata": {
        "id": "Ut83w1buSpKJ",
        "colab_type": "code",
        "colab": {}
      },
      "source": [
        "from numpy import savetxt\n",
        "savetxt('X.csv',X)"
      ],
      "execution_count": 206,
      "outputs": []
    }
  ]
}